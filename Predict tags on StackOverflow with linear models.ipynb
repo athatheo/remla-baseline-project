{
 "cells": [
  {
   "cell_type": "markdown",
   "metadata": {},
   "source": [
    "# Predict tags on StackOverflow with linear models"
   ]
  },
  {
   "cell_type": "markdown",
   "metadata": {},
   "source": [
    "This project aims to predict tags for posts from [StackOverflow](https://stackoverflow.com). To solve this task we use multilabel classification. This is based on a project by partoftheorigin\n",
    "\n",
    "### Libraries\n",
    "\n",
    "In this task you will need the following libraries:\n",
    "- [Numpy](http://www.numpy.org) — a package for scientific computing.\n",
    "- [Pandas](https://pandas.pydata.org) — a library providing high-performance, easy-to-use data structures and data analysis tools for the Python\n",
    "- [scikit-learn](http://scikit-learn.org/stable/index.html) — a tool for data mining and data analysis.\n",
    "- [NLTK](http://www.nltk.org) — a platform to work with natural language."
   ]
  },
  {
   "cell_type": "code",
   "execution_count": 1,
   "metadata": {},
   "outputs": [],
   "source": [
    "import sys\n",
    "!{sys.executable} -m pip install nltk pandas numpy sklearn"
   ]
  },
  {
   "cell_type": "markdown",
   "metadata": {},
   "source": [
    "### Data\n",
    "\n",
    "All data required for this project is into the folder `/data`."
   ]
  },
  {
   "cell_type": "markdown",
   "metadata": {},
   "source": [
    "### Text preprocessing"
   ]
  },
  {
   "cell_type": "markdown",
   "metadata": {},
   "source": [
    "For this project we will need to use a list of stop words. It can be downloaded from *nltk*:"
   ]
  },
  {
   "cell_type": "code",
   "execution_count": 3,
   "metadata": {},
   "outputs": [
    {
     "name": "stderr",
     "output_type": "stream",
     "text": [
      "[nltk_data] Downloading package stopwords to\n",
      "[nltk_data]     C:\\Users\\user\\AppData\\Roaming\\nltk_data...\n",
      "[nltk_data]   Package stopwords is already up-to-date!\n"
     ]
    }
   ],
   "source": [
    "import nltk\n",
    "nltk.download('stopwords')\n",
    "from nltk.corpus import stopwords"
   ]
  },
  {
   "cell_type": "markdown",
   "metadata": {},
   "source": [
    "In this task you will deal with a dataset of post titles from StackOverflow. You are provided a split to 3 sets: *train*, *validation* and *test*. All corpora (except for *test*) contain titles of the posts and corresponding tags (100 tags are available). The *test* set doesn't contain answers. Upload the corpora using *pandas* and look at the data:"
   ]
  },
  {
   "cell_type": "code",
   "execution_count": 8,
   "metadata": {},
   "outputs": [],
   "source": [
    "from ast import literal_eval\n",
    "import pandas as pd\n",
    "import numpy as np"
   ]
  },
  {
   "cell_type": "code",
   "execution_count": 9,
   "metadata": {},
   "outputs": [],
   "source": [
    "def read_data(filename):\n",
    "    data = pd.read_csv(filename, sep='\\t')\n",
    "    data['tags'] = data['tags'].apply(literal_eval)\n",
    "    return data"
   ]
  },
  {
   "cell_type": "code",
   "execution_count": 22,
   "metadata": {},
   "outputs": [],
   "source": [
    "train = read_data('data/raw/train/train.tsv')\n",
    "validation = read_data('data/raw/eval/validation.tsv')\n",
    "test = pd.read_csv('data/raw/eval/test.tsv', sep='\\t')\n",
    "# train = train.astype({\"tags\": str})"
   ]
  },
  {
   "cell_type": "code",
   "execution_count": 23,
   "metadata": {},
   "outputs": [
    {
     "data": {
      "text/html": [
       "<div>\n",
       "<style scoped>\n",
       "    .dataframe tbody tr th:only-of-type {\n",
       "        vertical-align: middle;\n",
       "    }\n",
       "\n",
       "    .dataframe tbody tr th {\n",
       "        vertical-align: top;\n",
       "    }\n",
       "\n",
       "    .dataframe thead th {\n",
       "        text-align: right;\n",
       "    }\n",
       "</style>\n",
       "<table border=\"1\" class=\"dataframe\">\n",
       "  <thead>\n",
       "    <tr style=\"text-align: right;\">\n",
       "      <th></th>\n",
       "      <th>title</th>\n",
       "      <th>tags</th>\n",
       "    </tr>\n",
       "  </thead>\n",
       "  <tbody>\n",
       "    <tr>\n",
       "      <th>0</th>\n",
       "      <td>How to draw a stacked dotplot in R?</td>\n",
       "      <td>[r]</td>\n",
       "    </tr>\n",
       "    <tr>\n",
       "      <th>1</th>\n",
       "      <td>mysql select all records where a datetime fiel...</td>\n",
       "      <td>[php, mysql]</td>\n",
       "    </tr>\n",
       "    <tr>\n",
       "      <th>2</th>\n",
       "      <td>How to terminate windows phone 8.1 app</td>\n",
       "      <td>[c#]</td>\n",
       "    </tr>\n",
       "    <tr>\n",
       "      <th>3</th>\n",
       "      <td>get current time in a specific country via jquery</td>\n",
       "      <td>[javascript, jquery]</td>\n",
       "    </tr>\n",
       "    <tr>\n",
       "      <th>4</th>\n",
       "      <td>Configuring Tomcat to Use SSL</td>\n",
       "      <td>[java]</td>\n",
       "    </tr>\n",
       "  </tbody>\n",
       "</table>\n",
       "</div>"
      ],
      "text/plain": [
       "                                               title                  tags\n",
       "0                How to draw a stacked dotplot in R?                   [r]\n",
       "1  mysql select all records where a datetime fiel...          [php, mysql]\n",
       "2             How to terminate windows phone 8.1 app                  [c#]\n",
       "3  get current time in a specific country via jquery  [javascript, jquery]\n",
       "4                      Configuring Tomcat to Use SSL                [java]"
      ]
     },
     "execution_count": 23,
     "metadata": {},
     "output_type": "execute_result"
    }
   ],
   "source": [
    "train.head()"
   ]
  },
  {
   "cell_type": "code",
   "execution_count": 25,
   "metadata": {},
   "outputs": [],
   "source": [
    "# Split the rows with multiple tags\n",
    "train_proc = pd.DataFrame()\n",
    "titlesList = []\n",
    "tagsList = []\n",
    "\n",
    "for index, row in train.iterrows():\n",
    "#     import pdb; pdb.set_trace()\n",
    "    for tag in row[\"tags\"]:\n",
    "        titlesList.append(row[\"title\"])\n",
    "        tagsList.append(tag)\n",
    "train_proc = pd.DataFrame({\"title\": titlesList, \"tags\": tagsList})"
   ]
  },
  {
   "cell_type": "code",
   "execution_count": 27,
   "metadata": {},
   "outputs": [
    {
     "data": {
      "text/html": [
       "<div>\n",
       "<style scoped>\n",
       "    .dataframe tbody tr th:only-of-type {\n",
       "        vertical-align: middle;\n",
       "    }\n",
       "\n",
       "    .dataframe tbody tr th {\n",
       "        vertical-align: top;\n",
       "    }\n",
       "\n",
       "    .dataframe thead th {\n",
       "        text-align: right;\n",
       "    }\n",
       "</style>\n",
       "<table border=\"1\" class=\"dataframe\">\n",
       "  <thead>\n",
       "    <tr style=\"text-align: right;\">\n",
       "      <th></th>\n",
       "      <th>title</th>\n",
       "      <th>tags</th>\n",
       "    </tr>\n",
       "  </thead>\n",
       "  <tbody>\n",
       "    <tr>\n",
       "      <th>0</th>\n",
       "      <td>How to draw a stacked dotplot in R?</td>\n",
       "      <td>r</td>\n",
       "    </tr>\n",
       "    <tr>\n",
       "      <th>1</th>\n",
       "      <td>mysql select all records where a datetime fiel...</td>\n",
       "      <td>php</td>\n",
       "    </tr>\n",
       "    <tr>\n",
       "      <th>2</th>\n",
       "      <td>mysql select all records where a datetime fiel...</td>\n",
       "      <td>mysql</td>\n",
       "    </tr>\n",
       "    <tr>\n",
       "      <th>3</th>\n",
       "      <td>How to terminate windows phone 8.1 app</td>\n",
       "      <td>c#</td>\n",
       "    </tr>\n",
       "    <tr>\n",
       "      <th>4</th>\n",
       "      <td>get current time in a specific country via jquery</td>\n",
       "      <td>javascript</td>\n",
       "    </tr>\n",
       "    <tr>\n",
       "      <th>...</th>\n",
       "      <td>...</td>\n",
       "      <td>...</td>\n",
       "    </tr>\n",
       "    <tr>\n",
       "      <th>194214</th>\n",
       "      <td>jqGrid issue grouping - Duplicate rows get app...</td>\n",
       "      <td>javascript</td>\n",
       "    </tr>\n",
       "    <tr>\n",
       "      <th>194215</th>\n",
       "      <td>jqGrid issue grouping - Duplicate rows get app...</td>\n",
       "      <td>jquery</td>\n",
       "    </tr>\n",
       "    <tr>\n",
       "      <th>194216</th>\n",
       "      <td>Create a List of primitive int?</td>\n",
       "      <td>java</td>\n",
       "    </tr>\n",
       "    <tr>\n",
       "      <th>194217</th>\n",
       "      <td>Create a List of primitive int?</td>\n",
       "      <td>list</td>\n",
       "    </tr>\n",
       "    <tr>\n",
       "      <th>194218</th>\n",
       "      <td>Create a List of primitive int?</td>\n",
       "      <td>generics</td>\n",
       "    </tr>\n",
       "  </tbody>\n",
       "</table>\n",
       "<p>194219 rows × 2 columns</p>\n",
       "</div>"
      ],
      "text/plain": [
       "                                                    title        tags\n",
       "0                     How to draw a stacked dotplot in R?           r\n",
       "1       mysql select all records where a datetime fiel...         php\n",
       "2       mysql select all records where a datetime fiel...       mysql\n",
       "3                  How to terminate windows phone 8.1 app          c#\n",
       "4       get current time in a specific country via jquery  javascript\n",
       "...                                                   ...         ...\n",
       "194214  jqGrid issue grouping - Duplicate rows get app...  javascript\n",
       "194215  jqGrid issue grouping - Duplicate rows get app...      jquery\n",
       "194216                    Create a List of primitive int?        java\n",
       "194217                    Create a List of primitive int?        list\n",
       "194218                    Create a List of primitive int?    generics\n",
       "\n",
       "[194219 rows x 2 columns]"
      ]
     },
     "execution_count": 27,
     "metadata": {},
     "output_type": "execute_result"
    }
   ],
   "source": [
    "train_proc"
   ]
  },
  {
   "cell_type": "code",
   "execution_count": 28,
   "metadata": {},
   "outputs": [
    {
     "data": {
      "text/plain": [
       "array([[<AxesSubplot:title={'center':'title'}>]], dtype=object)"
      ]
     },
     "execution_count": 28,
     "metadata": {},
     "output_type": "execute_result"
    },
    {
     "data": {
      "image/png": "[encoded data removed]",
      "text/plain": [
       "<Figure size 432x288 with 1 Axes>"
      ]
     },
     "metadata": {
      "needs_background": "light"
     },
     "output_type": "display_data"
    }
   ],
   "source": [
    "counts = train_proc.groupby([\"tags\"]).count()\n",
    "counts = counts.reset_index()\n",
    "counts.hist()"
   ]
  },
  {
   "cell_type": "code",
   "execution_count": 31,
   "metadata": {},
   "outputs": [
    {
     "data": {
      "text/plain": [
       "pandas.core.frame.DataFrame"
      ]
     },
     "execution_count": 31,
     "metadata": {},
     "output_type": "execute_result"
    }
   ],
   "source": [
    "counts = train_proc.groupby([\"tags\"]).count()\n",
    "counts = counts.reset_index()\n",
    "# counts\n",
    "counts.sort_values(by=\"title\")\n",
    "type(counts)"
   ]
  },
  {
   "cell_type": "code",
   "execution_count": 30,
   "metadata": {},
   "outputs": [
    {
     "data": {
      "image/png": "[encoded data removed]",
      "text/plain": [
       "<Figure size 1656x936 with 1 Axes>"
      ]
     },
     "metadata": {
      "needs_background": "light"
     },
     "output_type": "display_data"
    }
   ],
   "source": [
    "# ! pip install squarify\n",
    "import matplotlib.pyplot as plt\n",
    "import squarify  \n",
    "import pandas as pd\n",
    "\n",
    "# plot it\n",
    "plt.rcParams[\"figure.figsize\"] = (23,13)\n",
    "squarify.plot(sizes=counts['title'], label=counts['tags'], alpha=.8 )\n",
    "plt.axis('off')\n",
    "plt.show()"
   ]
  },
  {
   "cell_type": "markdown",
   "metadata": {},
   "source": [
    "As you can see, *title* column contains titles of the posts and *tags* column contains the tags. It could be noticed that a number of tags for a post is not fixed and could be as many as necessary."
   ]
  },
  {
   "cell_type": "markdown",
   "metadata": {},
   "source": [
    "For a more comfortable usage, initialize *X_train*, *X_val*, *X_test*, *y_train*, *y_val*."
   ]
  },
  {
   "cell_type": "code",
   "execution_count": null,
   "metadata": {},
   "outputs": [],
   "source": [
    "X_train, y_train = train['title'].values, train['tags'].values\n",
    "X_val, y_val = validation['title'].values, validation['tags'].values\n",
    "X_test = test['title'].values"
   ]
  },
  {
   "cell_type": "markdown",
   "metadata": {},
   "source": [
    "One of the most known difficulties when working with natural data is that it's unstructured. For example, if you use it \"as is\" and extract tokens just by splitting the titles by whitespaces, you will see that there are many \"weird\" tokens like *3.5?*, *\"Flip*, etc. To prevent the problems, it's usually useful to prepare the data somehow. In this task you'll write a function, which will be also used in the other assignments. \n",
    "\n",
    "**Task 1 (TextPrepare).** Implement the function *text_prepare* following the instructions. After that, run the function *test_test_prepare* to test it on tiny cases."
   ]
  },
  {
   "cell_type": "code",
   "execution_count": 8,
   "metadata": {},
   "outputs": [],
   "source": [
    "import re"
   ]
  },
  {
   "cell_type": "code",
   "execution_count": 9,
   "metadata": {},
   "outputs": [],
   "source": [
    "REPLACE_BY_SPACE_RE = re.compile('[/(){}\\[\\]\\|@,;]')\n",
    "BAD_SYMBOLS_RE = re.compile('[^0-9a-z #+_]')\n",
    "STOPWORDS = set(stopwords.words('english'))\n",
    "\n",
    "def text_prepare(text):\n",
    "    \"\"\"\n",
    "        text: a string\n",
    "        \n",
    "        return: modified initial string\n",
    "    \"\"\"\n",
    "    text = text.lower() # lowercase text\n",
    "    text = re.sub(REPLACE_BY_SPACE_RE, \" \", text) # replace REPLACE_BY_SPACE_RE symbols by space in text\n",
    "    text = re.sub(BAD_SYMBOLS_RE, \"\", text) # delete symbols which are in BAD_SYMBOLS_RE from text\n",
    "    text = \" \".join([word for word in text.split() if not word in STOPWORDS]) # delete stopwords from text\n",
    "    return text"
   ]
  },
  {
   "cell_type": "code",
   "execution_count": 10,
   "metadata": {},
   "outputs": [],
   "source": [
    "def test_text_prepare():\n",
    "    examples = [\"SQL Server - any equivalent of Excel's CHOOSE function?\",\n",
    "                \"How to free c++ memory vector<int> * arr?\"]\n",
    "    answers = [\"sql server equivalent excels choose function\", \n",
    "               \"free c++ memory vectorint arr\"]\n",
    "    for ex, ans in zip(examples, answers):\n",
    "        if text_prepare(ex) != ans:\n",
    "            return \"Wrong answer for the case: '%s'\" % ex\n",
    "    return 'Basic tests are passed.'"
   ]
  },
  {
   "cell_type": "code",
   "execution_count": 11,
   "metadata": {},
   "outputs": [
    {
     "name": "stdout",
     "output_type": "stream",
     "text": [
      "Basic tests are passed.\n"
     ]
    }
   ],
   "source": [
    "print(test_text_prepare())"
   ]
  },
  {
   "cell_type": "markdown",
   "metadata": {},
   "source": [
    "Run your implementation for questions from file *text_prepare_tests.tsv*."
   ]
  },
  {
   "cell_type": "code",
   "execution_count": 12,
   "metadata": {},
   "outputs": [],
   "source": [
    "prepared_questions = []\n",
    "for line in open('data/text_prepare_tests.tsv', encoding='utf-8'):\n",
    "    line = text_prepare(line.strip())\n",
    "    prepared_questions.append(line)\n",
    "text_prepare_results = '\\n'.join(prepared_questions)"
   ]
  },
  {
   "cell_type": "markdown",
   "metadata": {},
   "source": [
    "Now we can preprocess the titles using function *text_prepare* and  making sure that the headers don't have bad symbols:"
   ]
  },
  {
   "cell_type": "code",
   "execution_count": 13,
   "metadata": {},
   "outputs": [],
   "source": [
    "X_train = [text_prepare(x) for x in X_train]\n",
    "X_val = [text_prepare(x) for x in X_val]\n",
    "X_test = [text_prepare(x) for x in X_test]"
   ]
  },
  {
   "cell_type": "code",
   "execution_count": 14,
   "metadata": {},
   "outputs": [
    {
     "data": {
      "text/plain": [
       "['draw stacked dotplot r',\n",
       " 'mysql select records datetime field less specified value',\n",
       " 'terminate windows phone 81 app']"
      ]
     },
     "execution_count": 14,
     "metadata": {},
     "output_type": "execute_result"
    }
   ],
   "source": [
    "X_train[:3]"
   ]
  },
  {
   "cell_type": "markdown",
   "metadata": {},
   "source": [
    "For each tag and for each word calculate how many times they occur in the train corpus. \n",
    "\n",
    "**Task 2 (WordsTagsCount).** Find 3 most popular tags and 3 most popular words in the train data and submit the results to earn the points."
   ]
  },
  {
   "cell_type": "code",
   "execution_count": 15,
   "metadata": {},
   "outputs": [
    {
     "name": "stdout",
     "output_type": "stream",
     "text": [
      "['using', 'php', 'java']\n"
     ]
    }
   ],
   "source": [
    "# Dictionary of all tags from train corpus with their counts.\n",
    "tags_counts = {}\n",
    "# Dictionary of all words from train corpus with their counts.\n",
    "words_counts = {}\n",
    "\n",
    "for sentence in X_train:\n",
    "    for word in sentence.split():\n",
    "        if word in words_counts:\n",
    "            words_counts[word] += 1\n",
    "        else:\n",
    "            words_counts[word] = 1\n",
    "\n",
    "for tags in y_train:\n",
    "    for tag in tags:\n",
    "        if tag in tags_counts:\n",
    "            tags_counts[tag] += 1\n",
    "        else:\n",
    "            tags_counts[tag] = 1\n",
    "        \n",
    "# print(tags_counts)\n",
    "# print(words_counts)\n",
    "\n",
    "print(sorted(words_counts, key=words_counts.get, reverse=True)[:3])"
   ]
  },
  {
   "cell_type": "markdown",
   "metadata": {},
   "source": [
    "We are assuming that *tags_counts* and *words_counts* are dictionaries like `{'some_word_or_tag': frequency}`. After applying the sorting procedure, results will be look like this: `[('most_popular_word_or_tag', frequency), ('less_popular_word_or_tag', frequency), ...]`. The grader gets the results in the following format (two comma-separated strings with line break):\n",
    "\n",
    "    tag1,tag2,tag3\n",
    "    word1,word2,word3\n",
    "\n",
    "Pay attention that in this assignment you should not submit frequencies or some additional information."
   ]
  },
  {
   "cell_type": "code",
   "execution_count": 16,
   "metadata": {},
   "outputs": [],
   "source": [
    "most_common_tags = sorted(tags_counts.items(), key=lambda x: x[1], reverse=True)[:3]\n",
    "most_common_words = sorted(words_counts.items(), key=lambda x: x[1], reverse=True)[:3]"
   ]
  },
  {
   "cell_type": "markdown",
   "metadata": {},
   "source": [
    "### Transforming text to a vector\n",
    "\n",
    "Machine Learning algorithms work with numeric data and we cannot use the provided text data \"as is\". There are many ways to transform text data to numeric vectors. In this task you will try to use two of them.\n",
    "\n",
    "#### Bag of words\n",
    "\n",
    "One of the well-known approaches is a *bag-of-words* representation. To create this transformation, follow the steps:\n",
    "1. Find *N* most popular words in train corpus and numerate them. Now we have a dictionary of the most popular words.\n",
    "2. For each title in the corpora create a zero vector with the dimension equals to *N*.\n",
    "3. For each text in the corpora iterate over words which are in the dictionary and increase by 1 the corresponding coordinate.\n",
    "\n",
    "Let's try to do it for a toy example. Imagine that we have *N* = 4 and the list of the most popular words is \n",
    "\n",
    "    ['hi', 'you', 'me', 'are']\n",
    "\n",
    "Then we need to numerate them, for example, like this: \n",
    "\n",
    "    {'hi': 0, 'you': 1, 'me': 2, 'are': 3}\n",
    "\n",
    "And we have the text, which we want to transform to the vector:\n",
    "\n",
    "    'hi how are you'\n",
    "\n",
    "For this text we create a corresponding zero vector \n",
    "\n",
    "    [0, 0, 0, 0]\n",
    "    \n",
    "And iterate over all words, and if the word is in the dictionary, we increase the value of the corresponding position in the vector:\n",
    "\n",
    "    'hi':  [1, 0, 0, 0]\n",
    "    'how': [1, 0, 0, 0] # word 'how' is not in our dictionary\n",
    "    'are': [1, 0, 0, 1]\n",
    "    'you': [1, 1, 0, 1]\n",
    "\n",
    "The resulting vector will be \n",
    "\n",
    "    [1, 1, 0, 1]\n",
    "   \n",
    "Implement the described encoding in the function *my_bag_of_words* with the size of the dictionary equals to 5000. To find the most common words use train data. You can test your code using the function *test_my_bag_of_words*."
   ]
  },
  {
   "cell_type": "code",
   "execution_count": 17,
   "metadata": {},
   "outputs": [],
   "source": [
    "DICT_SIZE = 5000\n",
    "INDEX_TO_WORDS = sorted(words_counts, key=words_counts.get, reverse=True)[:DICT_SIZE]####### YOUR CODE HERE #######\n",
    "WORDS_TO_INDEX = {word:i for i, word in enumerate(INDEX_TO_WORDS)}\n",
    "ALL_WORDS = WORDS_TO_INDEX.keys()\n",
    "\n",
    "def my_bag_of_words(text, words_to_index, dict_size):\n",
    "    \"\"\"\n",
    "        text: a string\n",
    "        dict_size: size of the dictionary\n",
    "        \n",
    "        return a vector which is a bag-of-words representation of 'text'\n",
    "    \"\"\"\n",
    "    result_vector = np.zeros(dict_size)\n",
    "    \n",
    "    for word in text.split():\n",
    "        if word in words_to_index:\n",
    "            result_vector[words_to_index[word]] += 1\n",
    "    return result_vector"
   ]
  },
  {
   "cell_type": "code",
   "execution_count": 18,
   "metadata": {},
   "outputs": [],
   "source": [
    "def test_my_bag_of_words():\n",
    "    words_to_index = {'hi': 0, 'you': 1, 'me': 2, 'are': 3}\n",
    "    examples = ['hi how are you']\n",
    "    answers = [[1, 1, 0, 1]]\n",
    "    for ex, ans in zip(examples, answers):\n",
    "        if (my_bag_of_words(ex, words_to_index, 4) != ans).any():\n",
    "            return \"Wrong answer for the case: '%s'\" % ex\n",
    "    return 'Basic tests are passed.'"
   ]
  },
  {
   "cell_type": "code",
   "execution_count": 19,
   "metadata": {},
   "outputs": [
    {
     "name": "stdout",
     "output_type": "stream",
     "text": [
      "Basic tests are passed.\n"
     ]
    }
   ],
   "source": [
    "print(test_my_bag_of_words())"
   ]
  },
  {
   "cell_type": "markdown",
   "metadata": {},
   "source": [
    "Now apply the implemented function to all samples (this might take up to a minute):"
   ]
  },
  {
   "cell_type": "code",
   "execution_count": 20,
   "metadata": {},
   "outputs": [],
   "source": [
    "from scipy import sparse as sp_sparse"
   ]
  },
  {
   "cell_type": "code",
   "execution_count": 21,
   "metadata": {},
   "outputs": [
    {
     "name": "stdout",
     "output_type": "stream",
     "text": [
      "X_train shape  (100000, 5000)\n",
      "X_val shape  (30000, 5000)\n",
      "X_test shape  (20000, 5000)\n"
     ]
    }
   ],
   "source": [
    "X_train_mybag = sp_sparse.vstack([sp_sparse.csr_matrix(my_bag_of_words(text, WORDS_TO_INDEX, DICT_SIZE)) for text in X_train])\n",
    "X_val_mybag = sp_sparse.vstack([sp_sparse.csr_matrix(my_bag_of_words(text, WORDS_TO_INDEX, DICT_SIZE)) for text in X_val])\n",
    "X_test_mybag = sp_sparse.vstack([sp_sparse.csr_matrix(my_bag_of_words(text, WORDS_TO_INDEX, DICT_SIZE)) for text in X_test])\n",
    "print('X_train shape ', X_train_mybag.shape)\n",
    "print('X_val shape ', X_val_mybag.shape)\n",
    "print('X_test shape ', X_test_mybag.shape)"
   ]
  },
  {
   "cell_type": "markdown",
   "metadata": {},
   "source": [
    "As you might notice, we transform the data to sparse representation, to store the useful information efficiently. There are many [types](https://docs.scipy.org/doc/scipy/reference/sparse.html) of such representations, however sklearn algorithms can work only with [csr](https://docs.scipy.org/doc/scipy/reference/generated/scipy.sparse.csr_matrix.html#scipy.sparse.csr_matrix) matrix, so we will use this one."
   ]
  },
  {
   "cell_type": "markdown",
   "metadata": {},
   "source": [
    "**Task 3 (BagOfWords).** For the 11th row in *X_train_mybag* find how many non-zero elements it has. In this task the answer (variable *non_zero_elements_count*) should be a number, e.g. 20."
   ]
  },
  {
   "cell_type": "code",
   "execution_count": 22,
   "metadata": {},
   "outputs": [],
   "source": [
    "row = X_train_mybag[10].toarray()[0]\n",
    "non_zero_elements_count = (row>0).sum()####### YOUR CODE HERE #######"
   ]
  },
  {
   "cell_type": "markdown",
   "metadata": {},
   "source": [
    "#### TF-IDF\n",
    "\n",
    "The second approach extends the bag-of-words framework by taking into account total frequencies of words in the corpora. It helps to penalize too frequent words and provide better features space. \n",
    "\n",
    "Implement function *tfidf_features* using class [TfidfVectorizer](http://scikit-learn.org/stable/modules/generated/sklearn.feature_extraction.text.TfidfVectorizer.html) from *scikit-learn*. Use *train* corpus to train a vectorizer. Don't forget to take a look into the arguments that you can pass to it. We suggest that you filter out too rare words (occur less than in 5 titles) and too frequent words (occur more than in 90% of the titles). Also, use bigrams along with unigrams in your vocabulary. "
   ]
  },
  {
   "cell_type": "code",
   "execution_count": 23,
   "metadata": {},
   "outputs": [],
   "source": [
    "from sklearn.feature_extraction.text import TfidfVectorizer"
   ]
  },
  {
   "cell_type": "code",
   "execution_count": 24,
   "metadata": {},
   "outputs": [],
   "source": [
    "def tfidf_features(X_train, X_val, X_test):\n",
    "    \"\"\"\n",
    "        X_train, X_val, X_test — samples        \n",
    "        return TF-IDF vectorized representation of each sample and vocabulary\n",
    "    \"\"\"\n",
    "    # Create TF-IDF vectorizer with a proper parameters choice\n",
    "    # Fit the vectorizer on the train set\n",
    "    # Transform the train, test, and val sets and return the result\n",
    "    \n",
    "    \n",
    "    tfidf_vectorizer = TfidfVectorizer(min_df=5, max_df=0.9, ngram_range=(1,2), token_pattern='(\\S+)') ####### YOUR CODE HERE #######\n",
    "    \n",
    "    X_train = tfidf_vectorizer.fit_transform(X_train)\n",
    "    X_val = tfidf_vectorizer.transform(X_val)\n",
    "    X_test = tfidf_vectorizer.transform(X_test)\n",
    "    \n",
    "    return X_train, X_val, X_test, tfidf_vectorizer.vocabulary_"
   ]
  },
  {
   "cell_type": "markdown",
   "metadata": {},
   "source": [
    "Once you have done text preprocessing, always have a look at the results. Be very careful at this step, because the performance of future models will drastically depend on it. \n",
    "\n",
    "In this case, check whether you have c++ or c# in your vocabulary, as they are obviously important tokens in our tags prediction task:"
   ]
  },
  {
   "cell_type": "code",
   "execution_count": 25,
   "metadata": {},
   "outputs": [],
   "source": [
    "X_train_tfidf, X_val_tfidf, X_test_tfidf, tfidf_vocab = tfidf_features(X_train, X_val, X_test)\n",
    "tfidf_reversed_vocab = {i:word for word,i in tfidf_vocab.items()}"
   ]
  },
  {
   "cell_type": "code",
   "execution_count": 26,
   "metadata": {},
   "outputs": [
    {
     "data": {
      "text/plain": [
       "1879"
      ]
     },
     "execution_count": 26,
     "metadata": {},
     "output_type": "execute_result"
    }
   ],
   "source": [
    "tfidf_vocab[\"c#\"]"
   ]
  },
  {
   "cell_type": "markdown",
   "metadata": {},
   "source": [
    "If you can't find it, we need to understand how did it happen that we lost them? It happened during the built-in tokenization of TfidfVectorizer. Luckily, we can influence on this process. Get back to the function above and use '(\\S+)' regexp as a *token_pattern* in the constructor of the vectorizer.  "
   ]
  },
  {
   "cell_type": "markdown",
   "metadata": {},
   "source": [
    "Now, use this transormation for the data and check again."
   ]
  },
  {
   "cell_type": "code",
   "execution_count": 27,
   "metadata": {},
   "outputs": [
    {
     "data": {
      "text/plain": [
       "'c#'"
      ]
     },
     "execution_count": 27,
     "metadata": {},
     "output_type": "execute_result"
    }
   ],
   "source": [
    "tfidf_reversed_vocab[1879]"
   ]
  },
  {
   "cell_type": "markdown",
   "metadata": {},
   "source": [
    "### MultiLabel classifier\n",
    "\n",
    "As we have noticed before, in this task each example can have multiple tags. To deal with such kind of prediction, we need to transform labels in a binary form and the prediction will be a mask of 0s and 1s. For this purpose it is convenient to use [MultiLabelBinarizer](http://scikit-learn.org/stable/modules/generated/sklearn.preprocessing.MultiLabelBinarizer.html) from *sklearn*."
   ]
  },
  {
   "cell_type": "code",
   "execution_count": 28,
   "metadata": {},
   "outputs": [],
   "source": [
    "from sklearn.preprocessing import MultiLabelBinarizer"
   ]
  },
  {
   "cell_type": "code",
   "execution_count": 29,
   "metadata": {},
   "outputs": [],
   "source": [
    "mlb = MultiLabelBinarizer(classes=sorted(tags_counts.keys()))\n",
    "y_train = mlb.fit_transform(y_train)\n",
    "y_val = mlb.fit_transform(y_val)"
   ]
  },
  {
   "cell_type": "markdown",
   "metadata": {},
   "source": [
    "Implement the function *train_classifier* for training a classifier. In this task we suggest to use One-vs-Rest approach, which is implemented in [OneVsRestClassifier](http://scikit-learn.org/stable/modules/generated/sklearn.multiclass.OneVsRestClassifier.html) class. In this approach *k* classifiers (= number of tags) are trained. As a basic classifier, use [LogisticRegression](http://scikit-learn.org/stable/modules/generated/sklearn.linear_model.LogisticRegression.html). It is one of the simplest methods, but often it performs good enough in text classification tasks. It might take some time, because a number of classifiers to train is large."
   ]
  },
  {
   "cell_type": "code",
   "execution_count": 30,
   "metadata": {},
   "outputs": [],
   "source": [
    "from sklearn.multiclass import OneVsRestClassifier\n",
    "from sklearn.linear_model import LogisticRegression, RidgeClassifier"
   ]
  },
  {
   "cell_type": "code",
   "execution_count": 31,
   "metadata": {},
   "outputs": [],
   "source": [
    "def train_classifier(X_train, y_train, penalty='l1', C=1):\n",
    "    \"\"\"\n",
    "      X_train, y_train — training data\n",
    "      \n",
    "      return: trained classifier\n",
    "    \"\"\"\n",
    "    \n",
    "    # Create and fit LogisticRegression wraped into OneVsRestClassifier.\n",
    "    \n",
    "    clf = LogisticRegression(penalty=penalty, C=C, dual=False, solver='liblinear')\n",
    "    clf = OneVsRestClassifier(clf)\n",
    "    clf.fit(X_train, y_train)\n",
    "    \n",
    "    return clf"
   ]
  },
  {
   "cell_type": "markdown",
   "metadata": {},
   "source": [
    "Train the classifiers for different data transformations: *bag-of-words* and *tf-idf*."
   ]
  },
  {
   "cell_type": "code",
   "execution_count": 32,
   "metadata": {},
   "outputs": [],
   "source": [
    "classifier_mybag = train_classifier(X_train_mybag, y_train)\n",
    "classifier_tfidf = train_classifier(X_train_tfidf, y_train)"
   ]
  },
  {
   "cell_type": "markdown",
   "metadata": {},
   "source": [
    "Now you can create predictions for the data. You will need two types of predictions: labels and scores."
   ]
  },
  {
   "cell_type": "code",
   "execution_count": 33,
   "metadata": {},
   "outputs": [],
   "source": [
    "y_val_predicted_labels_mybag = classifier_mybag.predict(X_val_mybag)\n",
    "y_val_predicted_scores_mybag = classifier_mybag.decision_function(X_val_mybag)\n",
    "\n",
    "y_val_predicted_labels_tfidf = classifier_tfidf.predict(X_val_tfidf)\n",
    "y_val_predicted_scores_tfidf = classifier_tfidf.decision_function(X_val_tfidf)"
   ]
  },
  {
   "cell_type": "markdown",
   "metadata": {},
   "source": [
    "Now take a look at how classifier, which uses TF-IDF, works for a few examples:"
   ]
  },
  {
   "cell_type": "code",
   "execution_count": 34,
   "metadata": {},
   "outputs": [
    {
     "name": "stdout",
     "output_type": "stream",
     "text": [
      "Title:\todbc_exec always fail\n",
      "True labels:\tphp,sql\n",
      "Predicted labels:\t\n",
      "\n",
      "\n",
      "Title:\taccess base classes variable within child class\n",
      "True labels:\tjavascript\n",
      "Predicted labels:\t\n",
      "\n",
      "\n",
      "Title:\tcontenttype application json required rails\n",
      "True labels:\truby,ruby-on-rails\n",
      "Predicted labels:\tjson,ruby-on-rails\n",
      "\n",
      "\n"
     ]
    }
   ],
   "source": [
    "y_val_pred_inversed = mlb.inverse_transform(y_val_predicted_labels_tfidf)\n",
    "y_val_inversed = mlb.inverse_transform(y_val)\n",
    "for i in range(3):\n",
    "    print('Title:\\t{}\\nTrue labels:\\t{}\\nPredicted labels:\\t{}\\n\\n'.format(\n",
    "        X_val[i],\n",
    "        ','.join(y_val_inversed[i]),\n",
    "        ','.join(y_val_pred_inversed[i])\n",
    "    ))"
   ]
  },
  {
   "cell_type": "markdown",
   "metadata": {},
   "source": [
    "Now, we would need to compare the results of different predictions, e.g. to see whether TF-IDF transformation helps or to try different regularization techniques in logistic regression. For all these experiments, we need to setup evaluation procedure. "
   ]
  },
  {
   "cell_type": "markdown",
   "metadata": {},
   "source": [
    "### Evaluation\n",
    "\n",
    "To evaluate the results we will use several classification metrics:\n",
    " - [Accuracy](http://scikit-learn.org/stable/modules/generated/sklearn.metrics.accuracy_score.html)\n",
    " - [F1-score](http://scikit-learn.org/stable/modules/generated/sklearn.metrics.f1_score.html)\n",
    " - [Area under ROC-curve](http://scikit-learn.org/stable/modules/generated/sklearn.metrics.roc_auc_score.html)\n",
    " - [Area under precision-recall curve](http://scikit-learn.org/stable/modules/generated/sklearn.metrics.average_precision_score.html#sklearn.metrics.average_precision_score) \n",
    " \n",
    "Make sure you are familiar with all of them. How would you expect the things work for the multi-label scenario? Read about micro/macro/weighted averaging following the sklearn links provided above."
   ]
  },
  {
   "cell_type": "code",
   "execution_count": 57,
   "metadata": {},
   "outputs": [],
   "source": [
    "from sklearn.metrics import accuracy_score\n",
    "from sklearn.metrics import f1_score\n",
    "from sklearn.metrics import roc_auc_score \n",
    "from sklearn.metrics import average_precision_score\n",
    "from sklearn.metrics import recall_score"
   ]
  },
  {
   "cell_type": "markdown",
   "metadata": {},
   "source": [
    "Implement the function *print_evaluation_scores* which calculates and prints to stdout:\n",
    " - *accuracy*\n",
    " - *F1-score macro/micro/weighted*\n",
    " - *Precision macro/micro/weighted*"
   ]
  },
  {
   "cell_type": "code",
   "execution_count": 42,
   "metadata": {},
   "outputs": [],
   "source": [
    "def print_evaluation_scores(y_val, predicted):\n",
    "    print('Accuracy score: ', accuracy_score(y_val, predicted))\n",
    "    print('F1 score: ', f1_score(y_val, predicted, average='weighted'))\n",
    "    print('Average precision score: ', average_precision_score(y_val, predicted, average='macro'))"
   ]
  },
  {
   "cell_type": "code",
   "execution_count": 43,
   "metadata": {},
   "outputs": [
    {
     "name": "stdout",
     "output_type": "stream",
     "text": [
      "Bag-of-words\n",
      "Accuracy score:  0.3640333333333333\n",
      "F1 score:  0.6560784177443034\n",
      "Average precision score:  0.3558138895629543\n",
      "Tfidf\n",
      "Accuracy score:  0.3654\n",
      "F1 score:  0.6524229396577524\n",
      "Average precision score:  0.3493057226500468\n"
     ]
    }
   ],
   "source": [
    "print('Bag-of-words')\n",
    "print_evaluation_scores(y_val, y_val_predicted_labels_mybag)\n",
    "print('Tfidf')\n",
    "print_evaluation_scores(y_val, y_val_predicted_labels_tfidf)"
   ]
  },
  {
   "cell_type": "markdown",
   "metadata": {},
   "source": [
    "You might also want to plot some generalization of the [ROC curve](http://scikit-learn.org/stable/modules/model_evaluation.html#receiver-operating-characteristic-roc) for the case of multi-label classification. Provided function *roc_auc* can make it for you. The input parameters of this function are:\n",
    " - true labels\n",
    " - decision functions scores\n",
    " - number of classes"
   ]
  },
  {
   "cell_type": "code",
   "execution_count": 61,
   "metadata": {},
   "outputs": [],
   "source": [
    "from sklearn.metrics import roc_auc_score as roc_auc"
   ]
  },
  {
   "cell_type": "code",
   "execution_count": 53,
   "metadata": {},
   "outputs": [
    {
     "data": {
      "text/plain": [
       "0.9336177494502033"
      ]
     },
     "execution_count": 53,
     "metadata": {},
     "output_type": "execute_result"
    }
   ],
   "source": [
    "roc_auc(y_val, y_val_predicted_scores_mybag, multi_class='ovo')"
   ]
  },
  {
   "cell_type": "code",
   "execution_count": 54,
   "metadata": {},
   "outputs": [
    {
     "data": {
      "text/plain": [
       "0.9295846114644017"
      ]
     },
     "execution_count": 54,
     "metadata": {},
     "output_type": "execute_result"
    }
   ],
   "source": [
    "roc_auc(y_val, y_val_predicted_scores_tfidf, multi_class='ovo')"
   ]
  },
  {
   "cell_type": "markdown",
   "metadata": {},
   "source": [
    "**Task 4 (MultilabelClassification).** Once we have the evaluation set up, we suggest that you experiment a bit with training your classifiers. We will use *F1-score weighted* as an evaluation metric. Our recommendation:\n",
    "- compare the quality of the bag-of-words and TF-IDF approaches and chose one of them.\n",
    "- for the chosen one, try *L1* and *L2*-regularization techniques in Logistic Regression with different coefficients (e.g. C equal to 0.1, 1, 10, 100).\n",
    "\n",
    "You also could try other improvements of the preprocessing / model, if you want. "
   ]
  },
  {
   "cell_type": "code",
   "execution_count": 55,
   "metadata": {},
   "outputs": [],
   "source": [
    "# coefficients = [0.1, 1, 10, 100]\n",
    "# penalties = ['l1', 'l2']\n",
    "\n",
    "# for coefficient in coefficients:\n",
    "#     for penalty in penalties:\n",
    "#         classifier_tfidf = train_classifier(X_train_tfidf, y_train, penalty=penalty, C=coefficient)\n",
    "#         y_val_predicted_labels_tfidf = classifier_tfidf.predict(X_val_tfidf)\n",
    "#         y_val_predicted_scores_tfidf = classifier_tfidf.decision_function(X_val_tfidf)\n",
    "#         print(\"Coefficient: {}, Penalty: {}\".format(coefficient, penalty))\n",
    "#         print_evaluation_scores(y_val, y_val_predicted_labels_tfidf)\n",
    "        \n",
    "\n",
    "classifier_tfidf = train_classifier(X_train_tfidf, y_train, penalty='l2', C=10)\n",
    "y_val_predicted_labels_tfidf = classifier_tfidf.predict(X_val_tfidf)\n",
    "y_val_predicted_scores_tfidf = classifier_tfidf.decision_function(X_val_tfidf)"
   ]
  },
  {
   "cell_type": "code",
   "execution_count": 58,
   "metadata": {},
   "outputs": [],
   "source": [
    "test_predictions = classifier_tfidf.predict(X_test_tfidf)######### YOUR CODE HERE #############\n",
    "test_pred_inversed = mlb.inverse_transform(test_predictions)\n",
    "\n",
    "test_predictions_for_submission = '\\n'.join('%i\\t%s' % (i, ','.join(row)) for i, row in enumerate(test_pred_inversed))"
   ]
  },
  {
   "cell_type": "markdown",
   "metadata": {},
   "source": [
    "### Analysis of the most important features"
   ]
  },
  {
   "cell_type": "markdown",
   "metadata": {},
   "source": [
    "Finally, it is usually a good idea to look at the features (words or n-grams) that are used with the largest weigths in your logistic regression model."
   ]
  },
  {
   "cell_type": "markdown",
   "metadata": {},
   "source": [
    "Implement the function *print_words_for_tag* to find them. Get back to sklearn documentation on [OneVsRestClassifier](http://scikit-learn.org/stable/modules/generated/sklearn.multiclass.OneVsRestClassifier.html) and [LogisticRegression](http://scikit-learn.org/stable/modules/generated/sklearn.linear_model.LogisticRegression.html) if needed."
   ]
  },
  {
   "cell_type": "code",
   "execution_count": 59,
   "metadata": {},
   "outputs": [],
   "source": [
    "def print_words_for_tag(classifier, tag, tags_classes, index_to_words, all_words):\n",
    "    \"\"\"\n",
    "        classifier: trained classifier\n",
    "        tag: particular tag\n",
    "        tags_classes: a list of classes names from MultiLabelBinarizer\n",
    "        index_to_words: index_to_words transformation\n",
    "        all_words: all words in the dictionary\n",
    "        \n",
    "        return nothing, just print top 5 positive and top 5 negative words for current tag\n",
    "    \"\"\"\n",
    "    print('Tag:\\t{}'.format(tag))\n",
    "    \n",
    "    # Extract an estimator from the classifier for the given tag.\n",
    "    # Extract feature coefficients from the estimator. \n",
    "    \n",
    "    model = classifier_tfidf.estimators_[tags_classes.index(tag)]\n",
    "    top_positive_words = [index_to_words[x] for x in model.coef_.argsort().tolist()[0][-5:]]\n",
    "    top_negative_words = [index_to_words[x] for x in model.coef_.argsort().tolist()[0][:5]]\n",
    "    \n",
    "    print('Top positive words:\\t{}'.format(', '.join(top_positive_words)))\n",
    "    print('Top negative words:\\t{}\\n'.format(', '.join(top_negative_words)))"
   ]
  },
  {
   "cell_type": "code",
   "execution_count": 60,
   "metadata": {},
   "outputs": [
    {
     "name": "stdout",
     "output_type": "stream",
     "text": [
      "Tag:\tc\n",
      "Top positive words:\tprintf, fscanf, scanf, malloc, c\n",
      "Top negative words:\tphp, java, python, javascript, c#\n",
      "\n",
      "Tag:\tc++\n",
      "Top positive words:\tstdstring, mfc, boost, qt, c++\n",
      "Top negative words:\tjava, php, javascript, python, c#\n",
      "\n",
      "Tag:\tlinux\n",
      "Top positive words:\tdlopen, kernel space, system call, killed, linux\n",
      "Top negative words:\tjavascript, c#, aspnet, codeigniter, nokogiri\n",
      "\n"
     ]
    }
   ],
   "source": [
    "print_words_for_tag(classifier_tfidf, 'c', mlb.classes, tfidf_reversed_vocab, ALL_WORDS)\n",
    "print_words_for_tag(classifier_tfidf, 'c++', mlb.classes, tfidf_reversed_vocab, ALL_WORDS)\n",
    "print_words_for_tag(classifier_tfidf, 'linux', mlb.classes, tfidf_reversed_vocab, ALL_WORDS)"
   ]
  },
  {
   "cell_type": "code",
   "execution_count": 36,
   "metadata": {},
   "outputs": [],
   "source": [
    "y_pred = np.load(\"src/y_pred.npy\")\n",
    "y_true = np.load(\"src/y_true.npy\")"
   ]
  },
  {
   "cell_type": "code",
   "execution_count": 51,
   "metadata": {},
   "outputs": [
    {
     "data": {
      "text/plain": [
       "(30000, 100)"
      ]
     },
     "execution_count": 51,
     "metadata": {},
     "output_type": "execute_result"
    }
   ],
   "source": [
    "# y_pred[:10]\n",
    "# np.where(y_pred != 0)\n",
    "y_pred.shape"
   ]
  },
  {
   "cell_type": "code",
   "execution_count": 70,
   "metadata": {},
   "outputs": [],
   "source": [
    "def squeeze_labels(y_pred, y_true):\n",
    "    y_pred_ids = np.where(y_pred != 0)\n",
    "    y_true_ids = np.where(y_true != 0)\n",
    "    y_pred_squeezed = []\n",
    "    y_true_squeezed = []\n",
    "    for i in range(len(y_true_ids[0])):\n",
    "        y_pred_squeezed.append(list(y_pred_ids[1][y_pred_ids[0]==i]))\n",
    "        y_true_squeezed.append(list(y_true_ids[1][y_true_ids[0]==i]))\n",
    "    return y_pred_squeezed, y_true_squeezed"
   ]
  },
  {
   "cell_type": "code",
   "execution_count": 71,
   "metadata": {},
   "outputs": [],
   "source": [
    "y_pred_sq, y_true_sq = squeeze_labels(y_pred, y_true)"
   ]
  },
  {
   "cell_type": "code",
   "execution_count": 108,
   "metadata": {},
   "outputs": [
    {
     "data": {
      "text/plain": [
       "[[60, 79],\n",
       " [38],\n",
       " [69, 70],\n",
       " [69, 74],\n",
       " [40, 69, 70],\n",
       " [11, 35, 36, 98],\n",
       " [10],\n",
       " [20, 62],\n",
       " [32, 38, 39],\n",
       " [31, 37],\n",
       " [0, 10, 12],\n",
       " [10, 96],\n",
       " [60],\n",
       " [37],\n",
       " [10, 96],\n",
       " [10, 96],\n",
       " [62, 81],\n",
       " [20, 84],\n",
       " [3, 37],\n",
       " [69, 70],\n",
       " [19, 38, 60],\n",
       " [62, 81],\n",
       " [10, 43, 81],\n",
       " [3, 38],\n",
       " [66],\n",
       " [37],\n",
       " [20],\n",
       " [17, 37],\n",
       " [70],\n",
       " [37],\n",
       " [1, 38, 39],\n",
       " [3, 37],\n",
       " [11],\n",
       " [0, 10, 32],\n",
       " [9, 61],\n",
       " [60],\n",
       " [16, 66],\n",
       " [37, 79],\n",
       " [10, 43],\n",
       " [32, 38],\n",
       " [60],\n",
       " [35, 36, 53],\n",
       " [60],\n",
       " [0, 10, 43],\n",
       " [10, 49, 75],\n",
       " [38],\n",
       " [14, 60],\n",
       " [37],\n",
       " [39, 60, 95],\n",
       " [9],\n",
       " [32, 60],\n",
       " [37],\n",
       " [0, 10, 94],\n",
       " [60],\n",
       " [37, 80],\n",
       " [20, 62],\n",
       " [62],\n",
       " [11],\n",
       " [37, 73],\n",
       " [70],\n",
       " [70, 71],\n",
       " [15, 38, 39],\n",
       " [3, 62],\n",
       " [10],\n",
       " [31, 37, 50, 79],\n",
       " [11, 54],\n",
       " [35, 82],\n",
       " [11],\n",
       " [38, 39],\n",
       " [10, 43, 96],\n",
       " [57, 62],\n",
       " [32, 38],\n",
       " [4, 15, 32, 38],\n",
       " [34, 70],\n",
       " [22, 37],\n",
       " [50, 60],\n",
       " [17, 38, 50],\n",
       " [7, 10, 94],\n",
       " [37],\n",
       " [37],\n",
       " [52, 62, 63],\n",
       " [3, 37],\n",
       " [60],\n",
       " [1, 38, 39, 60],\n",
       " [66],\n",
       " [15, 30, 32, 38, 39],\n",
       " [24, 37],\n",
       " [20, 50, 62],\n",
       " [37],\n",
       " [37],\n",
       " [5, 60],\n",
       " [6, 76, 82],\n",
       " [20, 62],\n",
       " [62, 93],\n",
       " [37],\n",
       " [11, 38],\n",
       " [10, 96, 97],\n",
       " [8, 10],\n",
       " [38],\n",
       " [60, 95],\n",
       " [11],\n",
       " [0, 10, 94],\n",
       " [37],\n",
       " [37],\n",
       " [0, 10],\n",
       " [38],\n",
       " [10],\n",
       " [37, 99],\n",
       " [37, 47, 77, 78],\n",
       " [10],\n",
       " [40, 69],\n",
       " [10],\n",
       " [30, 38],\n",
       " [10],\n",
       " [35, 53, 59],\n",
       " [7, 10],\n",
       " [13, 35, 36, 53, 98],\n",
       " [37],\n",
       " [66],\n",
       " [62, 65],\n",
       " [11],\n",
       " [38],\n",
       " [35, 53],\n",
       " [37, 41, 77, 78],\n",
       " [10],\n",
       " [0, 10],\n",
       " [9],\n",
       " [10],\n",
       " [21, 38],\n",
       " [66],\n",
       " [37, 77],\n",
       " [10],\n",
       " [37, 40, 60],\n",
       " [37],\n",
       " [10, 94],\n",
       " [0, 10, 80],\n",
       " [3, 37],\n",
       " [0, 88, 90],\n",
       " [37],\n",
       " [11, 55],\n",
       " [69, 70],\n",
       " [37, 99],\n",
       " [37],\n",
       " [3, 37],\n",
       " [1, 40, 50, 60],\n",
       " [69],\n",
       " [10],\n",
       " [38, 39],\n",
       " [10, 27, 94],\n",
       " [3, 37],\n",
       " [32, 38],\n",
       " [7, 10, 87],\n",
       " [8, 10, 20, 70],\n",
       " [48, 70],\n",
       " [38, 51],\n",
       " [4, 38],\n",
       " [11],\n",
       " [17, 37],\n",
       " [38, 40, 51],\n",
       " [10, 17],\n",
       " [38],\n",
       " [20, 40, 62],\n",
       " [37],\n",
       " [10, 80],\n",
       " [1, 21, 39, 70],\n",
       " [21, 32, 38],\n",
       " [50, 60],\n",
       " [9, 36, 98],\n",
       " [0, 10, 80],\n",
       " [69, 70],\n",
       " [9],\n",
       " [10, 43, 81],\n",
       " [7, 88],\n",
       " [7, 10],\n",
       " [11, 65],\n",
       " [39, 40, 70],\n",
       " [0, 10],\n",
       " [35, 53],\n",
       " [37, 78],\n",
       " [6, 11, 28, 61],\n",
       " [38, 51],\n",
       " [10],\n",
       " [12, 53],\n",
       " [10],\n",
       " [32, 38, 60],\n",
       " [37, 79],\n",
       " [11],\n",
       " [35, 53, 82],\n",
       " [60, 87],\n",
       " [37, 40],\n",
       " [56, 82],\n",
       " [38],\n",
       " [62],\n",
       " [20, 62],\n",
       " [1, 37],\n",
       " [60],\n",
       " [40, 62, 63],\n",
       " [52, 55, 62],\n",
       " [29, 37],\n",
       " [37],\n",
       " [35, 82],\n",
       " [3, 37],\n",
       " [70],\n",
       " [7, 10],\n",
       " [62],\n",
       " [37],\n",
       " [11],\n",
       " [20],\n",
       " [3, 30, 37],\n",
       " [6, 60],\n",
       " [21, 38],\n",
       " [62, 63],\n",
       " [59, 69, 93],\n",
       " [32, 38],\n",
       " [10],\n",
       " [62],\n",
       " [38, 39],\n",
       " [37],\n",
       " [11],\n",
       " [69],\n",
       " [38],\n",
       " [60],\n",
       " [0, 10],\n",
       " [60],\n",
       " [60],\n",
       " [10, 24],\n",
       " [38, 39, 87],\n",
       " [32, 38, 60],\n",
       " [20, 62],\n",
       " [37],\n",
       " [69, 70],\n",
       " [60],\n",
       " [0, 10],\n",
       " [69, 70],\n",
       " [0, 10, 17],\n",
       " [10],\n",
       " [10],\n",
       " [7, 10],\n",
       " [13, 36, 53],\n",
       " [37, 47, 78],\n",
       " [27, 40, 60],\n",
       " [3, 25, 37],\n",
       " [20],\n",
       " [53],\n",
       " [22, 37],\n",
       " [11, 55],\n",
       " [38, 39],\n",
       " [37],\n",
       " [14, 60],\n",
       " [69, 70, 79],\n",
       " [37],\n",
       " [10, 94],\n",
       " [38],\n",
       " [60],\n",
       " [3, 9, 11],\n",
       " [62],\n",
       " [3, 37],\n",
       " [7, 10],\n",
       " [1, 34, 39, 60],\n",
       " [60],\n",
       " [11],\n",
       " [69, 70],\n",
       " [11],\n",
       " [37],\n",
       " [8, 10],\n",
       " [14, 60],\n",
       " [60],\n",
       " [37],\n",
       " [1, 39, 60],\n",
       " [12, 60],\n",
       " [9],\n",
       " [18, 60],\n",
       " [15, 32, 38],\n",
       " [62, 63],\n",
       " [10],\n",
       " [7, 10],\n",
       " [9, 11, 44],\n",
       " [37],\n",
       " [20],\n",
       " [15, 38, 39],\n",
       " [50, 60],\n",
       " [38, 39, 40, 58],\n",
       " [26, 33, 38],\n",
       " [22, 37],\n",
       " [0, 7, 10, 24, 80],\n",
       " [60],\n",
       " [8, 10],\n",
       " [38],\n",
       " [38],\n",
       " [37, 47],\n",
       " [42, 60],\n",
       " [10, 43],\n",
       " [3, 37],\n",
       " [9, 44, 75],\n",
       " [25, 38],\n",
       " [7, 10],\n",
       " [1, 4, 10],\n",
       " [37],\n",
       " [37],\n",
       " [3, 10],\n",
       " [22, 31, 37, 92],\n",
       " [35, 82],\n",
       " [38, 60],\n",
       " [70],\n",
       " [10, 17, 96],\n",
       " [38],\n",
       " [37],\n",
       " [42, 60],\n",
       " [37],\n",
       " [35, 53],\n",
       " [37],\n",
       " [37],\n",
       " [62, 87],\n",
       " [27, 60],\n",
       " [37, 83],\n",
       " [20],\n",
       " [19, 57, 62],\n",
       " [10],\n",
       " [32, 38],\n",
       " [15, 32, 33, 38],\n",
       " [3, 37],\n",
       " [20],\n",
       " [37],\n",
       " [60, 92],\n",
       " [4, 32, 38],\n",
       " [9, 44],\n",
       " [10, 80],\n",
       " [46, 88],\n",
       " [1, 32, 38, 39, 84],\n",
       " [62],\n",
       " [38, 39],\n",
       " [62],\n",
       " [8, 10],\n",
       " [10, 96],\n",
       " [38, 39],\n",
       " [69, 70, 81],\n",
       " [9, 11, 44],\n",
       " [17, 50, 60],\n",
       " [20, 62, 86],\n",
       " [35, 36, 53, 98],\n",
       " [35, 36, 53],\n",
       " [11, 55],\n",
       " [1, 15, 39, 60],\n",
       " [36, 53],\n",
       " [7, 88],\n",
       " [7, 10],\n",
       " [9],\n",
       " [37],\n",
       " [31, 37, 77],\n",
       " [62, 81],\n",
       " [37, 72],\n",
       " [11, 55],\n",
       " [3, 37],\n",
       " [11, 81],\n",
       " [70],\n",
       " [20],\n",
       " [37, 40],\n",
       " [11],\n",
       " [37],\n",
       " [7, 8, 38, 39],\n",
       " [14, 30, 38, 39, 60],\n",
       " [37],\n",
       " [9],\n",
       " [15, 32, 38],\n",
       " [7, 38, 89],\n",
       " [10],\n",
       " [70],\n",
       " [0, 10],\n",
       " [35, 36, 53],\n",
       " [36, 53],\n",
       " [69, 70],\n",
       " [10, 80],\n",
       " [10, 29],\n",
       " [0, 10],\n",
       " [43, 88],\n",
       " [3, 37],\n",
       " [32, 38],\n",
       " [10, 43],\n",
       " [88],\n",
       " [32, 38, 39],\n",
       " [50, 60],\n",
       " [37, 79, 83],\n",
       " [69],\n",
       " [17, 38, 39, 60],\n",
       " [38],\n",
       " [62],\n",
       " [13, 36, 53],\n",
       " [0, 10],\n",
       " [62],\n",
       " [38],\n",
       " [32, 38, 50, 60],\n",
       " [32, 50, 60],\n",
       " [38],\n",
       " [20],\n",
       " [88],\n",
       " [10],\n",
       " [38, 39],\n",
       " [69],\n",
       " [45, 62],\n",
       " [15, 38, 39],\n",
       " [42, 60],\n",
       " [37],\n",
       " [38],\n",
       " [11],\n",
       " [69, 70],\n",
       " [10],\n",
       " [37],\n",
       " [37, 44],\n",
       " [0, 10],\n",
       " [38, 39],\n",
       " [37],\n",
       " [11, 65],\n",
       " [20],\n",
       " [60],\n",
       " [37, 58],\n",
       " [35, 38],\n",
       " [32, 60],\n",
       " [37, 77],\n",
       " [60],\n",
       " [7, 10, 89],\n",
       " [53, 56],\n",
       " [60],\n",
       " [10],\n",
       " [10, 94],\n",
       " [10],\n",
       " [38],\n",
       " [11, 49],\n",
       " [38, 39],\n",
       " [38],\n",
       " [54, 60],\n",
       " [38],\n",
       " [9],\n",
       " [26, 62, 81],\n",
       " [53],\n",
       " [21, 38, 60],\n",
       " [38],\n",
       " [10],\n",
       " [60],\n",
       " [57, 62],\n",
       " [38],\n",
       " [21, 38],\n",
       " [10],\n",
       " [37, 77],\n",
       " [37, 41, 77, 78],\n",
       " [37, 41, 73],\n",
       " [11],\n",
       " [37],\n",
       " [12, 37],\n",
       " [37, 77],\n",
       " [9, 53],\n",
       " [60],\n",
       " [35, 53],\n",
       " [50, 60],\n",
       " [53],\n",
       " [38],\n",
       " [10],\n",
       " [9, 44],\n",
       " [62, 93],\n",
       " [11, 89, 93],\n",
       " [37],\n",
       " [38],\n",
       " [37],\n",
       " [70],\n",
       " [9, 11],\n",
       " [18, 38],\n",
       " [50, 60],\n",
       " [10],\n",
       " [10],\n",
       " [38, 39],\n",
       " [10, 19],\n",
       " [10],\n",
       " [37, 68, 77],\n",
       " [0, 10, 24, 79],\n",
       " [10],\n",
       " [38],\n",
       " [62],\n",
       " [60],\n",
       " [38, 60, 95],\n",
       " [10, 99],\n",
       " [38, 40],\n",
       " [60],\n",
       " [35, 53],\n",
       " [38],\n",
       " [10, 96],\n",
       " [66],\n",
       " [6, 62],\n",
       " [45, 62],\n",
       " [6, 30, 38],\n",
       " [27, 32, 60],\n",
       " [60],\n",
       " [38],\n",
       " [45, 62],\n",
       " [6, 38],\n",
       " [0, 10, 79, 96],\n",
       " [38],\n",
       " [22, 37],\n",
       " [32, 38],\n",
       " [24, 37],\n",
       " [66],\n",
       " [60],\n",
       " [30, 38],\n",
       " [11],\n",
       " [3, 37],\n",
       " [37],\n",
       " [10],\n",
       " [0, 10, 94],\n",
       " [10],\n",
       " [36, 53, 98],\n",
       " [31, 37, 49],\n",
       " [32, 39, 60],\n",
       " [38],\n",
       " [31, 37],\n",
       " [37],\n",
       " [10],\n",
       " [37, 72],\n",
       " [60],\n",
       " [38],\n",
       " [37, 68],\n",
       " [1, 37, 38, 40],\n",
       " [69],\n",
       " [9],\n",
       " [10],\n",
       " [69],\n",
       " [50, 60, 95],\n",
       " [37],\n",
       " [7, 88],\n",
       " [11],\n",
       " [37],\n",
       " [6, 11, 61],\n",
       " [35, 53],\n",
       " [37, 41, 73],\n",
       " [62],\n",
       " [37],\n",
       " [62, 63],\n",
       " [1, 60],\n",
       " [37, 83],\n",
       " [32, 38],\n",
       " [10, 24],\n",
       " [37],\n",
       " [37, 60],\n",
       " [10],\n",
       " [37, 77],\n",
       " [11],\n",
       " [62],\n",
       " [32, 39, 60],\n",
       " [17, 32, 60],\n",
       " [9, 11],\n",
       " [60],\n",
       " [16, 62, 64],\n",
       " [0, 10],\n",
       " [15, 38, 39],\n",
       " [35, 53, 98],\n",
       " [10, 49],\n",
       " [30, 32, 38],\n",
       " [37],\n",
       " [13, 36, 53],\n",
       " [69],\n",
       " [3, 37, 60],\n",
       " [60],\n",
       " [38],\n",
       " [60],\n",
       " [38],\n",
       " [60],\n",
       " [62, 63, 93],\n",
       " [3, 10],\n",
       " [20, 62],\n",
       " [50, 60],\n",
       " [11, 49],\n",
       " [0, 10],\n",
       " [37, 76],\n",
       " [62],\n",
       " [13, 35, 53, 85],\n",
       " [44, 62],\n",
       " [50, 60],\n",
       " [69, 70, 93],\n",
       " [38],\n",
       " [66],\n",
       " [3, 33, 35, 38],\n",
       " [38, 39],\n",
       " [20],\n",
       " [10],\n",
       " [37],\n",
       " [11],\n",
       " [14, 60],\n",
       " [62, 67],\n",
       " [37, 51, 59, 75],\n",
       " [32, 38],\n",
       " [3, 15, 38, 39],\n",
       " [60],\n",
       " [10, 72],\n",
       " [15, 38],\n",
       " [1, 6, 10, 38, 39],\n",
       " [3, 10],\n",
       " [60],\n",
       " [0, 10, 43, 79],\n",
       " [37, 77],\n",
       " [38],\n",
       " [37],\n",
       " [37],\n",
       " [38],\n",
       " [10, 43, 46],\n",
       " [17, 50, 60],\n",
       " [11],\n",
       " [62, 76],\n",
       " [9, 11, 75],\n",
       " [3, 37],\n",
       " [60],\n",
       " [70],\n",
       " [17, 50, 60, 79],\n",
       " [62],\n",
       " [4, 38, 84],\n",
       " [60],\n",
       " [40, 62],\n",
       " [37],\n",
       " [10],\n",
       " [3, 37],\n",
       " [21, 38],\n",
       " [37],\n",
       " [10],\n",
       " [18, 19, 50, 60],\n",
       " [38],\n",
       " [10, 29],\n",
       " [32, 60],\n",
       " [32, 37, 81],\n",
       " [0, 10, 79, 80],\n",
       " [37],\n",
       " [60, 74],\n",
       " [34, 88, 96],\n",
       " [11],\n",
       " [1, 38, 39, 50, 60],\n",
       " [38, 60],\n",
       " [10, 49, 59],\n",
       " [35, 36, 53],\n",
       " [20, 62],\n",
       " [32, 38],\n",
       " [19, 60],\n",
       " [10, 79],\n",
       " [37],\n",
       " [38],\n",
       " [0, 10, 89],\n",
       " [10, 91],\n",
       " [37],\n",
       " [45, 66],\n",
       " [10],\n",
       " [1, 60],\n",
       " [37, 40, 68],\n",
       " [10, 19],\n",
       " [11, 12, 28, 61],\n",
       " [37, 40],\n",
       " [10],\n",
       " [3, 37],\n",
       " [35, 53],\n",
       " [35, 82],\n",
       " [7, 8, 10],\n",
       " [11],\n",
       " [10, 38],\n",
       " [37, 83],\n",
       " [9],\n",
       " [10],\n",
       " [7, 10],\n",
       " [10, 86, 90],\n",
       " [35, 82],\n",
       " [10],\n",
       " [38, 98],\n",
       " [0, 10],\n",
       " [34, 60],\n",
       " [62],\n",
       " [62],\n",
       " [11, 38, 65],\n",
       " [11, 55, 65],\n",
       " [9, 11],\n",
       " [70],\n",
       " [38],\n",
       " [38, 39],\n",
       " [3, 22, 40, 50, 60],\n",
       " [60],\n",
       " [9, 11, 75],\n",
       " [38, 60],\n",
       " [37, 81],\n",
       " [3, 30, 37],\n",
       " [6, 52, 62],\n",
       " [3, 15, 32, 38],\n",
       " [70],\n",
       " [9, 49, 61],\n",
       " [12, 62],\n",
       " [11],\n",
       " [5, 24, 37],\n",
       " [0, 10, 96, 97],\n",
       " [10, 16],\n",
       " [10],\n",
       " [4, 38],\n",
       " [10],\n",
       " [37],\n",
       " [11, 65],\n",
       " [62],\n",
       " [38, 39],\n",
       " [37, 47, 69],\n",
       " [6, 52, 62],\n",
       " [10],\n",
       " [38, 48, 59],\n",
       " [15, 33, 70],\n",
       " [66],\n",
       " [10, 94],\n",
       " [82],\n",
       " [69],\n",
       " [32, 60, 95],\n",
       " [33, 35, 38],\n",
       " [52, 62],\n",
       " [37, 99],\n",
       " [11],\n",
       " [70, 71],\n",
       " [13, 35, 53],\n",
       " [37, 39, 41, 87],\n",
       " [38, 39],\n",
       " [57, 62],\n",
       " [15, 32, 38, 39],\n",
       " [38],\n",
       " [35, 36, 53],\n",
       " [38],\n",
       " [20],\n",
       " [62],\n",
       " [0, 7, 8, 10, 86],\n",
       " [37],\n",
       " [38],\n",
       " [35, 53],\n",
       " [60],\n",
       " [38],\n",
       " [11],\n",
       " [50, 60, 79],\n",
       " [32, 50, 60],\n",
       " [70],\n",
       " [38, 39],\n",
       " [39, 70],\n",
       " [3, 37],\n",
       " [60],\n",
       " [62],\n",
       " [60],\n",
       " [37, 83],\n",
       " [22, 37],\n",
       " [38, 45],\n",
       " [60],\n",
       " [82],\n",
       " [1, 38, 39],\n",
       " [37],\n",
       " [50, 60],\n",
       " [6, 11],\n",
       " [10, 99],\n",
       " [69, 74],\n",
       " [1, 38],\n",
       " [38],\n",
       " [37],\n",
       " [37],\n",
       " [38],\n",
       " [15, 32, 38, 39],\n",
       " [66],\n",
       " [60],\n",
       " [37, 45],\n",
       " [66],\n",
       " [66],\n",
       " [37],\n",
       " [5, 48, 60],\n",
       " [10, 91],\n",
       " [27, 32, 38, 60],\n",
       " [69, 70],\n",
       " [37],\n",
       " [35, 53, 98],\n",
       " [3, 22, 37],\n",
       " [15, 32, 38],\n",
       " [50, 60],\n",
       " [37],\n",
       " [11],\n",
       " [37],\n",
       " [11],\n",
       " [38],\n",
       " [10, 94],\n",
       " [52, 62],\n",
       " [60],\n",
       " [60],\n",
       " [9, 11],\n",
       " [0, 10, 94],\n",
       " [3, 7, 10, 37],\n",
       " [1, 39, 60, 95],\n",
       " [11],\n",
       " [37],\n",
       " [37],\n",
       " [60, 86],\n",
       " [10],\n",
       " [21, 32, 38],\n",
       " [4, 32, 38],\n",
       " [60, 99],\n",
       " [11, 65],\n",
       " [10],\n",
       " [38, 51],\n",
       " [10, 94],\n",
       " [7, 10],\n",
       " [10, 94],\n",
       " [7, 10, 24],\n",
       " [32, 38],\n",
       " [62],\n",
       " [62, 86],\n",
       " [11],\n",
       " [57, 62],\n",
       " [9, 11],\n",
       " [10, 45, 96, 97],\n",
       " [38, 39],\n",
       " [11, 56],\n",
       " [2, 3, 37],\n",
       " [20, 62],\n",
       " [37],\n",
       " [36, 53],\n",
       " [3, 37],\n",
       " [37],\n",
       " [62],\n",
       " [32, 38, 39, 60],\n",
       " [11],\n",
       " [40, 62, 67, 86],\n",
       " [8, 10],\n",
       " [9],\n",
       " [38, 59, 81],\n",
       " [38],\n",
       " [38],\n",
       " [3, 37, 40],\n",
       " [9],\n",
       " [31, 37],\n",
       " [7, 8, 10],\n",
       " [82],\n",
       " [10, 94],\n",
       " [36, 53],\n",
       " [37],\n",
       " [38],\n",
       " [38, 39],\n",
       " [15, 38, 39],\n",
       " [15, 70, 84],\n",
       " [4, 10],\n",
       " [62, 63],\n",
       " [38],\n",
       " [60],\n",
       " [7, 32, 38, 67, 92],\n",
       " [31, 37],\n",
       " [9, 11, 49],\n",
       " [10, 43],\n",
       " [6, 17, 60],\n",
       " [37],\n",
       " [7, 88],\n",
       " [57, 62],\n",
       " [1, 39, 60],\n",
       " [20, 62],\n",
       " [10, 94],\n",
       " [60],\n",
       " [70],\n",
       " [66],\n",
       " [37, 67],\n",
       " [62],\n",
       " [20, 27, 62, 87],\n",
       " [10, 49, 51],\n",
       " [3, 37],\n",
       " [37],\n",
       " [37],\n",
       " [7, 10, 88],\n",
       " [11, 93],\n",
       " [10, 38],\n",
       " [37],\n",
       " [62],\n",
       " [69],\n",
       " [37, 92],\n",
       " [10, 67],\n",
       " [4, 37, 47, 51],\n",
       " [37, 49],\n",
       " [62],\n",
       " [36, 53],\n",
       " [38],\n",
       " [11],\n",
       " [11],\n",
       " [7, 10, 79],\n",
       " [10],\n",
       " [37],\n",
       " [38],\n",
       " [10, 94],\n",
       " [11],\n",
       " [38, 39],\n",
       " [39, 60, 67],\n",
       " [1, 38, 39, 60],\n",
       " [50, 60],\n",
       " [37],\n",
       " [10],\n",
       " [60],\n",
       " [37],\n",
       " [37, 99],\n",
       " [9],\n",
       " [37, 47, 99],\n",
       " [70],\n",
       " [33, 38, 39],\n",
       " [19, 66],\n",
       " [37, 49],\n",
       " [7, 38, 39],\n",
       " [37],\n",
       " [37],\n",
       " [60],\n",
       " [10, 90, 96],\n",
       " [38, 39, 40],\n",
       " [11],\n",
       " [38],\n",
       " [38],\n",
       " [10],\n",
       " [37],\n",
       " [88, 94],\n",
       " [11],\n",
       " [20, 62],\n",
       " [37],\n",
       " [62, 72],\n",
       " [20, 62],\n",
       " [57, 62],\n",
       " [69, 70],\n",
       " [25, 37],\n",
       " [32, 38, 39],\n",
       " [34, 62],\n",
       " [37],\n",
       " [25, 38],\n",
       " [9, 55, 62],\n",
       " [20, 40, 62, 63],\n",
       " [1, 38],\n",
       " [15, 32, 62],\n",
       " [10],\n",
       " [11, 65],\n",
       " [10, 97],\n",
       " [11, 45, 61],\n",
       " [32, 38, 39],\n",
       " [14, 60],\n",
       " [10],\n",
       " [38, 39],\n",
       " [22, 60, 67],\n",
       " [35, 53],\n",
       " [0, 10, 94],\n",
       " [32, 60],\n",
       " [60],\n",
       " [11, 89],\n",
       " [37],\n",
       " [38],\n",
       " [50, 60],\n",
       " [10, 93],\n",
       " [2, 11],\n",
       " [38, 39],\n",
       " [62],\n",
       " [10],\n",
       " [38],\n",
       " [10],\n",
       " [3, 32, 37, 60],\n",
       " [37, 77],\n",
       " [38],\n",
       " [10, 23, 94],\n",
       " [0, 7, 10],\n",
       " [10, 89],\n",
       " [16, 66],\n",
       " [11],\n",
       " [35, 82, 98],\n",
       " [21, 60, 99],\n",
       " [37],\n",
       " [35, 53],\n",
       " [38, 62, 64],\n",
       " [10],\n",
       " [22, 37, 83],\n",
       " [38, 70],\n",
       " [32, 38, 39],\n",
       " [11, 90],\n",
       " [10, 91],\n",
       " [27, 32, 38, 60],\n",
       " [6, 38, 60, 95],\n",
       " [10],\n",
       " [1, 14, 38, 39],\n",
       " [37, 48],\n",
       " [15, 38],\n",
       " [38, 54],\n",
       " [37],\n",
       " [62],\n",
       " [32, 38],\n",
       " [22, 37],\n",
       " [10, 96],\n",
       " [70],\n",
       " [35, 36, 82, 98],\n",
       " [1, 7, 10, 39, 40],\n",
       " [38, 39],\n",
       " [10, 94],\n",
       " [5, 37, 56],\n",
       " [37, 75],\n",
       " [6, 37],\n",
       " [9],\n",
       " [36, 53, 81],\n",
       " [38],\n",
       " [20],\n",
       " [32, 38, 39],\n",
       " [5, 37, 75],\n",
       " [34, 69, 70],\n",
       " [3, 37],\n",
       " [11],\n",
       " [10, 72],\n",
       " [7, 10, 33],\n",
       " [10, 49],\n",
       " [38],\n",
       " [15, 32, 60, 95],\n",
       " [62],\n",
       " ...]"
      ]
     },
     "execution_count": 108,
     "metadata": {},
     "output_type": "execute_result"
    }
   ],
   "source": [
    "# # count occurances for every sample\n",
    "# occ_true = np.sum(y_true, axis=1)\n",
    "# occ_pred = np.sum(y_pred, axis=1)\n",
    "\n",
    "# lengths = np.max((occ_true, occ_pred), axis=0)\n",
    "y_true_sq\n",
    "# list(set(y_true_sq[0]).intersection(y_true_sq[0]))"
   ]
  },
  {
   "cell_type": "code",
   "execution_count": 109,
   "metadata": {},
   "outputs": [],
   "source": [
    "y_true_final = []\n",
    "y_pred_final = []\n",
    "\n",
    "for i in range(len(y_pred_sq)):\n",
    "#     for j in range(len(y_pred[0])):\n",
    "    common = list(set(y_pred_sq[i]).intersection(y_true_sq[i]))\n",
    "    in_true = list(set(y_true_sq[i]) - set(y_pred_sq[i]))\n",
    "    in_pred = list(set(y_pred_sq[i]) - set(y_true_sq[i]))\n",
    "    \n",
    "    y_true_final += common + in_true + [-1]*len(in_pred)\n",
    "    y_pred_final += common + [-1]*len(in_true) + in_pred"
   ]
  },
  {
   "cell_type": "code",
   "execution_count": 106,
   "metadata": {},
   "outputs": [
    {
     "data": {
      "text/plain": [
       "[10, 96, 10, 81, 62, 84, 20, -1, 3, 37]"
      ]
     },
     "execution_count": 106,
     "metadata": {},
     "output_type": "execute_result"
    }
   ],
   "source": [
    "(y_true_final[30:40])"
   ]
  },
  {
   "cell_type": "code",
   "execution_count": 107,
   "metadata": {},
   "outputs": [
    {
     "data": {
      "text/plain": [
       "[10, 96, 10, -1, -1, 84, 38, -1, -1, -1]"
      ]
     },
     "execution_count": 107,
     "metadata": {},
     "output_type": "execute_result"
    }
   ],
   "source": [
    "(y_pred_final[30:40])"
   ]
  },
  {
   "cell_type": "code",
   "execution_count": 114,
   "metadata": {},
   "outputs": [],
   "source": [
    "from sklearn.metrics import confusion_matrix\n",
    "mat = confusion_matrix(y_true_final, y_pred_final)\n",
    "res = mat.diagonal()/mat.sum(axis=1)"
   ]
  },
  {
   "cell_type": "code",
   "execution_count": 103,
   "metadata": {},
   "outputs": [
    {
     "data": {
      "text/plain": [
       "array([   37,   170,   181, ..., 64048, 64148, 64183], dtype=int64)"
      ]
     },
     "execution_count": 103,
     "metadata": {},
     "output_type": "execute_result"
    }
   ],
   "source": [
    "np.where(np.array(y_pred_final) + np.array(y_true_final) == -2)[0]"
   ]
  },
  {
   "cell_type": "code",
   "execution_count": 121,
   "metadata": {},
   "outputs": [
    {
     "data": {
      "text/plain": [
       "[<matplotlib.lines.Line2D at 0x2161c026d60>]"
      ]
     },
     "execution_count": 121,
     "metadata": {},
     "output_type": "execute_result"
    },
    {
     "data": {
      "image/png": "[encoded data removed]",
      "text/plain": [
       "<Figure size 1440x360 with 1 Axes>"
      ]
     },
     "metadata": {
      "needs_background": "light"
     },
     "output_type": "display_data"
    }
   ],
   "source": [
    "fig = plt.figure(figsize=(20,5))\n",
    "y = res[1:]\n",
    "x = np.arange(len(y))\n",
    "my_xticks = ['test']*len(x)\n",
    "plt.xticks(x, my_xticks)\n",
    "plt.xticks(rotation=45)\n",
    "plt.plot(x, y)"
   ]
  },
  {
   "cell_type": "code",
   "execution_count": null,
   "metadata": {},
   "outputs": [],
   "source": []
  }
 ],
 "metadata": {
  "kernelspec": {
   "display_name": "Python 3",
   "language": "python",
   "name": "python3"
  },
  "language_info": {
   "codemirror_mode": {
    "name": "ipython",
    "version": 3
   },
   "file_extension": ".py",
   "mimetype": "text/x-python",
   "name": "python",
   "nbconvert_exporter": "python",
   "pygments_lexer": "ipython3",
   "version": "3.8.5"
  }
 },
 "nbformat": 4,
 "nbformat_minor": 2
}